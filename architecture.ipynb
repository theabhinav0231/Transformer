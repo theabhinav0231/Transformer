{
  "nbformat": 4,
  "nbformat_minor": 0,
  "metadata": {
    "colab": {
      "provenance": [],
      "authorship_tag": "ABX9TyM9tz3EP0JdgkSO5u7emOhv",
      "include_colab_link": true
    },
    "kernelspec": {
      "name": "python3",
      "display_name": "Python 3"
    },
    "language_info": {
      "name": "python"
    }
  },
  "cells": [
    {
      "cell_type": "markdown",
      "metadata": {
        "id": "view-in-github",
        "colab_type": "text"
      },
      "source": [
        "<a href=\"https://colab.research.google.com/github/theabhinav0231/Transformer/blob/main/architecture.ipynb\" target=\"_parent\"><img src=\"https://colab.research.google.com/assets/colab-badge.svg\" alt=\"Open In Colab\"/></a>"
      ]
    },
    {
      "cell_type": "code",
      "source": [
        "import torch\n",
        "import torch.nn as nn\n",
        "import torch.optim as optim\n",
        "import torch.utils.data as data\n",
        "import math\n",
        "import copy"
      ],
      "metadata": {
        "id": "TrbQTTdoO8eW"
      },
      "execution_count": 1,
      "outputs": []
    },
    {
      "cell_type": "markdown",
      "source": [
        "## **Multi-Head Attention**"
      ],
      "metadata": {
        "id": "Ym6911QVPWfG"
      }
    },
    {
      "cell_type": "code",
      "source": [
        "class MultiHeadAttention(nn.Module):\n",
        "  def __init__(self, d_model, num_heads):\n",
        "    super().__init__()\n",
        "    assert d_model % num_heads == 0 # d_model must be divisible by num_heads\n",
        "\n",
        "    self.d_model = d_model\n",
        "    self.num_heads = num_heads\n",
        "    self.d_k = d_model // num_heads\n",
        "\n",
        "    self.w_q = nn.Linear(d_model, d_model)\n",
        "    self.w_k = nn.Linear(d_model, d_model)\n",
        "    self.w_v = nn.Linear(d_model, d_model)\n",
        "    self.w_o = nn.Linear(d_model, d_model)\n",
        "\n",
        "  def scaled_dot_product_attention(self, Q, K, V, mask=None):\n",
        "    atten_scores = torch.matmul(Q, K.transpose(-2, -1)) / math.sqrt(self.d_k)\n",
        "    if mask is not None:\n",
        "      atten_scores = atten_scores.masked_fill(mask == 0, -1e9)\n",
        "    atten_probs = torch.softmax(atten_scores, dim = -1)\n",
        "    output = torch.matmul(atten_probs, V)\n",
        "    return output\n",
        "\n",
        "  def split_heads(self, x):\n",
        "    batch_size, seq_length, d_model = x.size()\n",
        "    return x.view(batch_size, seq_length, self.num_heads, self.d_k).transpose(1, 2)\n",
        "\n",
        "  def combine_heads(self, x):\n",
        "    batch_size, _, seq_length, d_k = x.size()\n",
        "    return x.transpose(1, 2).contiguous().view(batch_size, seq_length, self.d_model)\n",
        "\n",
        "  def forward(self, Q, K, V, mask=None):\n",
        "    Q = self.split_heads(self.w_q(Q))\n",
        "    K = self.split_heads(self.w_k(K))\n",
        "    V = self.split_heads(self.w_v(V))\n",
        "\n",
        "    atten_output = self.scaled_dot_product_attention(Q, K, V, mask)\n",
        "    output = self.w_o(self.combine_heads(atten_output))\n",
        "    return output"
      ],
      "metadata": {
        "id": "DiicbjqKPhh4"
      },
      "execution_count": 2,
      "outputs": []
    },
    {
      "cell_type": "markdown",
      "source": [
        "## **Position-wise Feed-Forward Networks**"
      ],
      "metadata": {
        "id": "8JyXQOS-XDUM"
      }
    },
    {
      "cell_type": "code",
      "source": [
        "class PositionWiseFeedForward(nn.Module):\n",
        "  def __init__(self, d_model, d_ff):\n",
        "    super().__init__()\n",
        "    self.layer1 = nn.Linear(d_model, d_ff)\n",
        "    self.layer2 = nn.Linear(d_ff, d_model)\n",
        "    self.relu = nn.ReLU()\n",
        "\n",
        "  def forward(self, x):\n",
        "    return self.relu(self.layer_2(self.layer_1(x)))"
      ],
      "metadata": {
        "id": "WdvWWLm4bArL"
      },
      "execution_count": 3,
      "outputs": []
    },
    {
      "cell_type": "markdown",
      "source": [
        "## **Positional Encoding**"
      ],
      "metadata": {
        "id": "ewDPP3ogbhGc"
      }
    },
    {
      "cell_type": "code",
      "source": [
        "class PositionalEncoding(nn.Module):\n",
        "  def __init__(self, d_model, max_seq_length):\n",
        "    super().__init__()\n",
        "\n",
        "    pe = torch.zeros(max_seq_length, d_model)\n",
        "    position = torch.arange(0, max_seq_length, dtype=torch.float).unsqueeze(1)\n",
        "    div_term = torch.exp(torch.arange(0, d_model, 2).float() * -(math.log(10000.0) / d_model))\n",
        "\n",
        "    pe[:, 0::2] = torch.sin(position * div_term)\n",
        "    pe[:, 1::2] = torch.cos(position * div_term)\n",
        "\n",
        "    self.register_buffer(\"pe\", pe.unsqueeze(0))\n",
        "\n",
        "  def foward(self, x):\n",
        "    return x + self.pe[:, :x.size(1)]"
      ],
      "metadata": {
        "id": "JWc-dQnjdU1y"
      },
      "execution_count": 4,
      "outputs": []
    },
    {
      "cell_type": "markdown",
      "source": [
        "## **Encoder**"
      ],
      "metadata": {
        "id": "sMOUQ_90Tf2f"
      }
    },
    {
      "cell_type": "code",
      "source": [
        "class EncoderLayer(nn.Module):\n",
        "  def __init__(self, d_model, num_heads, d_ff, dropout):\n",
        "    super().__init__()\n",
        "    self.self_atten = MultiHeadAttention(d_model, num_heads)\n",
        "    self.feed_forward = PositionWiseFeedForward(d_model, d_ff)\n",
        "    self.norm_1 = nn.LayerNorm(d_model)\n",
        "    self.norm_2 = nn.LayerNorm(d_model)\n",
        "    self.dropout = nn.Dropout(dropout)\n",
        "\n",
        "  def forward(self, x, mask):\n",
        "    atten_output = self.self_atten(x, x, x, mask)\n",
        "    x = self.norm_1(x + self.dropout(atten_output))\n",
        "    ff_output = self.feed_forward(x)\n",
        "    x = self.norm_2(x + self.dropout(ff_output))\n",
        "    return x"
      ],
      "metadata": {
        "id": "TGJuNFQ4el8d"
      },
      "execution_count": 5,
      "outputs": []
    },
    {
      "cell_type": "markdown",
      "source": [
        "## **Decoder**"
      ],
      "metadata": {
        "id": "Cp98h99jRbxc"
      }
    },
    {
      "cell_type": "code",
      "source": [
        "class DecoderLayer(nn.Module):\n",
        "  def __init__(self, d_model, num_heads, d_ff, dropout):\n",
        "    super().__init__()\n",
        "    self.self_atten = MultiHeadAttention(d_model, num_heads)\n",
        "    self.cross_atten = MultiHeadAttention(d_model, num_heads)\n",
        "    self.feed_forward = PositionWiseFeedForward(d_model, d_ff)\n",
        "    self.norm_1 = nn.LayerNorm(d_model)\n",
        "    self.norm_2 = nn.LayerNorm(d_model)\n",
        "    self.norm_3 = nn.LayerNorm(d_model)\n",
        "    self.dropout = nn.Dropout(dropout)\n",
        "\n",
        "  def forward(self, x, enc_output, src_mask, tgt_mask):\n",
        "    atten_output = self.self_atten(x, x, x, tgt_mask)\n",
        "    x = self.norm_1(x + self.dropout(atten_output))\n",
        "    atten_output = self.cross_atten(x, enc_output, src_mask)\n",
        "    x = self.norm_2(x + self.dropout(atten_output))\n",
        "    ff_output = self.feed_forward(x)\n",
        "    x = self.norm_3(x + self.dropout(ff_output))\n",
        "    return x"
      ],
      "metadata": {
        "id": "4F75xPYETm7O"
      },
      "execution_count": 6,
      "outputs": []
    },
    {
      "cell_type": "markdown",
      "source": [
        "## **Transformer**"
      ],
      "metadata": {
        "id": "1wplyV6JVHmK"
      }
    },
    {
      "cell_type": "code",
      "source": [
        "class Transformer(nn.Module):\n",
        "  def __init__(self, src_vocab_size, tgt_vocab_size, d_model,\n",
        "               num_heads, num_layers, d_ff, max_seq_length, dropout):\n",
        "    super().__init__()\n",
        "    self.encoder_embedding = nn.Embedding(src_vocab_size, d_model)\n",
        "    self.decoder_embedding = nn.Embedding(tgt_vocab_size, d_model)\n",
        "    self.positional_encoding = PositionalEncoding(d_model, max_seq_length)\n",
        "\n",
        "    self.encoder_layers = nn.ModuleList([EncoderLayer(d_model, num_heads, d_ff, dropout) for _ in range(num_layers)])\n",
        "    self.decoder_layers = nn.ModuleList([DecoderLayer(d_model, num_heads, d_ff, dropout) for _ in range(num_layers)])\n",
        "\n",
        "    self.fc = nn.Linear(d_model, tgt_vocab_size)\n",
        "    self.dropout = nn.Dropout(dropout)\n",
        "\n",
        "  def generate_mask(self, src, tgt):\n",
        "    src_mask = (src != 0).unsqueeze(1).unsqueeze(2)\n",
        "    tgt_mask = (tgt != 0).unsqueeze(1).unsqueeze(3)\n",
        "    seq_length = tgt.size(1)\n",
        "    nopeak_mask = (1 - torch.triu(torch.ones(1, seq_length, seq_length), diagonal=1)).bool()\n",
        "    tgt_mask = tgt_mask & nopeak_mask\n",
        "    return src_mask, tgt_mask\n",
        "\n",
        "  def forward(self, src, tgt):\n",
        "    src_mask, tgt_mask = self.generate_mask(src, tgt)\n",
        "    src_embedded = self.dropout(self.positional_encoding(self.encoder_embedding(src)))\n",
        "    tgt_embedded = self.dropout(self.positional_encoding(self.decoder_embedding(tgt)))\n",
        "\n",
        "    enc_output = src_embedded\n",
        "    for enc_layer in self.encoder_layers:\n",
        "      enc_output = enc_layer(enc_output, src_mask)\n",
        "\n",
        "    dec_output = tgt_embedded\n",
        "    for dec_layer in self.decoder_layers:\n",
        "      dec_output = dec_layer(dec_output, enc_output, src_mask, tgt_mask)\n",
        "\n",
        "    output = self.fc(dec_output)\n",
        "    return output"
      ],
      "metadata": {
        "id": "gwv3Zoqhb8K_"
      },
      "execution_count": 7,
      "outputs": []
    }
  ]
}